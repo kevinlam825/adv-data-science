{
 "cells": [
  {
   "cell_type": "markdown",
   "metadata": {},
   "source": [
    "# CS5661 Homework 2\n",
    "Kevin Lam (CIN: 303061725) "
   ]
  },
  {
   "cell_type": "markdown",
   "metadata": {},
   "source": [
    "### Importing necessary libraries"
   ]
  },
  {
   "cell_type": "code",
   "execution_count": 1,
   "metadata": {
    "collapsed": true
   },
   "outputs": [],
   "source": [
    "import matplotlib.image as mpimg\n",
    "import matplotlib.pyplot as plt\n",
    "import matplotlib.pyplot as plt\n",
    "from sklearn.model_selection import train_test_split\n",
    "from sklearn.neural_network import MLPClassifier\n",
    "from sklearn.metrics import accuracy_score\n",
    "from sklearn.metrics import confusion_matrix\n",
    "from sklearn.model_selection import GridSearchCV\n",
    "import numpy as np\n",
    "import pandas as pd"
   ]
  },
  {
   "cell_type": "code",
   "execution_count": 2,
   "metadata": {
    "collapsed": true
   },
   "outputs": [],
   "source": [
    "#To allow images to be shown inside Jupyter\n",
    "%matplotlib inline"
   ]
  },
  {
   "cell_type": "markdown",
   "metadata": {},
   "source": [
    "### Loading the dataset and creating a helper function"
   ]
  },
  {
   "cell_type": "code",
   "execution_count": 3,
   "metadata": {
    "collapsed": true
   },
   "outputs": [],
   "source": [
    "#Load dataset\n",
    "img_df = pd.read_csv('label.csv')\n",
    "\n",
    "# Simple helper function for retrieving file/names\n",
    "def get_file_path(name_of_file):\n",
    "    x = 'Digit/' + str(name_of_file) + '.jpg'\n",
    "    return x"
   ]
  },
  {
   "cell_type": "markdown",
   "metadata": {},
   "source": [
    "### Create list for column names\n",
    "Format will be 'Pixel_XY' with X & Y ranging from 1-8 to represent each pixel location in a 8x8 grid"
   ]
  },
  {
   "cell_type": "code",
   "execution_count": 4,
   "metadata": {},
   "outputs": [
    {
     "data": {
      "text/html": [
       "<div>\n",
       "<style>\n",
       "    .dataframe thead tr:only-child th {\n",
       "        text-align: right;\n",
       "    }\n",
       "\n",
       "    .dataframe thead th {\n",
       "        text-align: left;\n",
       "    }\n",
       "\n",
       "    .dataframe tbody tr th {\n",
       "        vertical-align: top;\n",
       "    }\n",
       "</style>\n",
       "<table border=\"1\" class=\"dataframe\">\n",
       "  <thead>\n",
       "    <tr style=\"text-align: right;\">\n",
       "      <th></th>\n",
       "      <th>Pixel_11</th>\n",
       "      <th>Pixel_12</th>\n",
       "      <th>Pixel_13</th>\n",
       "      <th>Pixel_14</th>\n",
       "      <th>Pixel_15</th>\n",
       "      <th>Pixel_16</th>\n",
       "      <th>Pixel_17</th>\n",
       "      <th>Pixel_18</th>\n",
       "      <th>Pixel_21</th>\n",
       "      <th>Pixel_22</th>\n",
       "      <th>...</th>\n",
       "      <th>Pixel_81</th>\n",
       "      <th>Pixel_82</th>\n",
       "      <th>Pixel_83</th>\n",
       "      <th>Pixel_84</th>\n",
       "      <th>Pixel_85</th>\n",
       "      <th>Pixel_86</th>\n",
       "      <th>Pixel_87</th>\n",
       "      <th>Pixel_88</th>\n",
       "      <th>Digit</th>\n",
       "      <th>FileName</th>\n",
       "    </tr>\n",
       "  </thead>\n",
       "  <tbody>\n",
       "  </tbody>\n",
       "</table>\n",
       "<p>0 rows × 66 columns</p>\n",
       "</div>"
      ],
      "text/plain": [
       "Empty DataFrame\n",
       "Columns: [Pixel_11, Pixel_12, Pixel_13, Pixel_14, Pixel_15, Pixel_16, Pixel_17, Pixel_18, Pixel_21, Pixel_22, Pixel_23, Pixel_24, Pixel_25, Pixel_26, Pixel_27, Pixel_28, Pixel_31, Pixel_32, Pixel_33, Pixel_34, Pixel_35, Pixel_36, Pixel_37, Pixel_38, Pixel_41, Pixel_42, Pixel_43, Pixel_44, Pixel_45, Pixel_46, Pixel_47, Pixel_48, Pixel_51, Pixel_52, Pixel_53, Pixel_54, Pixel_55, Pixel_56, Pixel_57, Pixel_58, Pixel_61, Pixel_62, Pixel_63, Pixel_64, Pixel_65, Pixel_66, Pixel_67, Pixel_68, Pixel_71, Pixel_72, Pixel_73, Pixel_74, Pixel_75, Pixel_76, Pixel_77, Pixel_78, Pixel_81, Pixel_82, Pixel_83, Pixel_84, Pixel_85, Pixel_86, Pixel_87, Pixel_88, Digit, FileName]\n",
       "Index: []\n",
       "\n",
       "[0 rows x 66 columns]"
      ]
     },
     "execution_count": 4,
     "metadata": {},
     "output_type": "execute_result"
    }
   ],
   "source": [
    "column_list = []\n",
    "for i in range(1,9): # 1-8 inclusive\n",
    "    for j in range(1,9): # 1-8 inclusive\n",
    "        xy = (i*10)+j\n",
    "        name = 'Pixel_' + str(xy)\n",
    "        column_list.append(name)\n",
    "\n",
    "pixel_column_list = column_list.copy() # Keep copy of just the pixel columns for easier referencing in training\n",
    "column_list.append(\"Digit\")\n",
    "column_list.append(\"FileName\")\n",
    "\n",
    "\n",
    "# Create dataframe based on column list\n",
    "df = pd.DataFrame(columns = [column_list])\n",
    "\n",
    "df.head()"
   ]
  },
  {
   "cell_type": "markdown",
   "metadata": {},
   "source": [
    "### Iterate through the csv, read and append data to dataframe"
   ]
  },
  {
   "cell_type": "code",
   "execution_count": 5,
   "metadata": {},
   "outputs": [
    {
     "data": {
      "text/html": [
       "<div>\n",
       "<style>\n",
       "    .dataframe thead tr:only-child th {\n",
       "        text-align: right;\n",
       "    }\n",
       "\n",
       "    .dataframe thead th {\n",
       "        text-align: left;\n",
       "    }\n",
       "\n",
       "    .dataframe tbody tr th {\n",
       "        vertical-align: top;\n",
       "    }\n",
       "</style>\n",
       "<table border=\"1\" class=\"dataframe\">\n",
       "  <thead>\n",
       "    <tr style=\"text-align: right;\">\n",
       "      <th></th>\n",
       "      <th>Pixel_11</th>\n",
       "      <th>Pixel_12</th>\n",
       "      <th>Pixel_13</th>\n",
       "      <th>Pixel_14</th>\n",
       "      <th>Pixel_15</th>\n",
       "      <th>Pixel_16</th>\n",
       "      <th>Pixel_17</th>\n",
       "      <th>Pixel_18</th>\n",
       "      <th>Pixel_21</th>\n",
       "      <th>Pixel_22</th>\n",
       "      <th>...</th>\n",
       "      <th>Pixel_81</th>\n",
       "      <th>Pixel_82</th>\n",
       "      <th>Pixel_83</th>\n",
       "      <th>Pixel_84</th>\n",
       "      <th>Pixel_85</th>\n",
       "      <th>Pixel_86</th>\n",
       "      <th>Pixel_87</th>\n",
       "      <th>Pixel_88</th>\n",
       "      <th>Digit</th>\n",
       "      <th>FileName</th>\n",
       "    </tr>\n",
       "  </thead>\n",
       "  <tbody>\n",
       "    <tr>\n",
       "      <th>0</th>\n",
       "      <td>0</td>\n",
       "      <td>2</td>\n",
       "      <td>88</td>\n",
       "      <td>217</td>\n",
       "      <td>158</td>\n",
       "      <td>21</td>\n",
       "      <td>0</td>\n",
       "      <td>0</td>\n",
       "      <td>16</td>\n",
       "      <td>0</td>\n",
       "      <td>...</td>\n",
       "      <td>4</td>\n",
       "      <td>3</td>\n",
       "      <td>87</td>\n",
       "      <td>228</td>\n",
       "      <td>182</td>\n",
       "      <td>0</td>\n",
       "      <td>9</td>\n",
       "      <td>2</td>\n",
       "      <td>0</td>\n",
       "      <td>Digit/0.jpg</td>\n",
       "    </tr>\n",
       "    <tr>\n",
       "      <th>1</th>\n",
       "      <td>0</td>\n",
       "      <td>0</td>\n",
       "      <td>11</td>\n",
       "      <td>187</td>\n",
       "      <td>210</td>\n",
       "      <td>78</td>\n",
       "      <td>5</td>\n",
       "      <td>0</td>\n",
       "      <td>13</td>\n",
       "      <td>5</td>\n",
       "      <td>...</td>\n",
       "      <td>0</td>\n",
       "      <td>0</td>\n",
       "      <td>0</td>\n",
       "      <td>172</td>\n",
       "      <td>251</td>\n",
       "      <td>157</td>\n",
       "      <td>0</td>\n",
       "      <td>12</td>\n",
       "      <td>1</td>\n",
       "      <td>Digit/1.jpg</td>\n",
       "    </tr>\n",
       "    <tr>\n",
       "      <th>2</th>\n",
       "      <td>0</td>\n",
       "      <td>0</td>\n",
       "      <td>5</td>\n",
       "      <td>59</td>\n",
       "      <td>240</td>\n",
       "      <td>199</td>\n",
       "      <td>2</td>\n",
       "      <td>0</td>\n",
       "      <td>5</td>\n",
       "      <td>0</td>\n",
       "      <td>...</td>\n",
       "      <td>0</td>\n",
       "      <td>11</td>\n",
       "      <td>0</td>\n",
       "      <td>54</td>\n",
       "      <td>173</td>\n",
       "      <td>255</td>\n",
       "      <td>138</td>\n",
       "      <td>0</td>\n",
       "      <td>2</td>\n",
       "      <td>Digit/2.jpg</td>\n",
       "    </tr>\n",
       "    <tr>\n",
       "      <th>3</th>\n",
       "      <td>6</td>\n",
       "      <td>0</td>\n",
       "      <td>108</td>\n",
       "      <td>255</td>\n",
       "      <td>213</td>\n",
       "      <td>13</td>\n",
       "      <td>10</td>\n",
       "      <td>0</td>\n",
       "      <td>2</td>\n",
       "      <td>131</td>\n",
       "      <td>...</td>\n",
       "      <td>0</td>\n",
       "      <td>0</td>\n",
       "      <td>118</td>\n",
       "      <td>217</td>\n",
       "      <td>226</td>\n",
       "      <td>159</td>\n",
       "      <td>0</td>\n",
       "      <td>3</td>\n",
       "      <td>3</td>\n",
       "      <td>Digit/3.jpg</td>\n",
       "    </tr>\n",
       "    <tr>\n",
       "      <th>4</th>\n",
       "      <td>0</td>\n",
       "      <td>6</td>\n",
       "      <td>0</td>\n",
       "      <td>34</td>\n",
       "      <td>160</td>\n",
       "      <td>7</td>\n",
       "      <td>7</td>\n",
       "      <td>0</td>\n",
       "      <td>5</td>\n",
       "      <td>0</td>\n",
       "      <td>...</td>\n",
       "      <td>0</td>\n",
       "      <td>0</td>\n",
       "      <td>2</td>\n",
       "      <td>42</td>\n",
       "      <td>250</td>\n",
       "      <td>51</td>\n",
       "      <td>0</td>\n",
       "      <td>4</td>\n",
       "      <td>4</td>\n",
       "      <td>Digit/4.jpg</td>\n",
       "    </tr>\n",
       "  </tbody>\n",
       "</table>\n",
       "<p>5 rows × 66 columns</p>\n",
       "</div>"
      ],
      "text/plain": [
       "  Pixel_11 Pixel_12 Pixel_13 Pixel_14 Pixel_15 Pixel_16 Pixel_17 Pixel_18  \\\n",
       "0        0        2       88      217      158       21        0        0   \n",
       "1        0        0       11      187      210       78        5        0   \n",
       "2        0        0        5       59      240      199        2        0   \n",
       "3        6        0      108      255      213       13       10        0   \n",
       "4        0        6        0       34      160        7        7        0   \n",
       "\n",
       "  Pixel_21 Pixel_22     ...      Pixel_81 Pixel_82 Pixel_83 Pixel_84 Pixel_85  \\\n",
       "0       16        0     ...             4        3       87      228      182   \n",
       "1       13        5     ...             0        0        0      172      251   \n",
       "2        5        0     ...             0       11        0       54      173   \n",
       "3        2      131     ...             0        0      118      217      226   \n",
       "4        5        0     ...             0        0        2       42      250   \n",
       "\n",
       "  Pixel_86 Pixel_87 Pixel_88 Digit     FileName  \n",
       "0        0        9        2     0  Digit/0.jpg  \n",
       "1      157        0       12     1  Digit/1.jpg  \n",
       "2      255      138        0     2  Digit/2.jpg  \n",
       "3      159        0        3     3  Digit/3.jpg  \n",
       "4       51        0        4     4  Digit/4.jpg  \n",
       "\n",
       "[5 rows x 66 columns]"
      ]
     },
     "execution_count": 5,
     "metadata": {},
     "output_type": "execute_result"
    }
   ],
   "source": [
    "df = df[0:0] # Clear dataframe\n",
    "\n",
    "for index, row in img_df.iterrows():                    # Loop through the csv\n",
    "    filename = get_file_path(row['name of the file'])    # Get file path for image\n",
    "    img = mpimg.imread(filename).reshape(-1)             # Read image and collapse into a 1-dimensional array (8x8 -> 1x64)\n",
    "    data = list(img)\n",
    "    data.append(row['digit'])         # Include the digit\n",
    "    data.append(filename)             # and file path\n",
    "    s = pd.Series(data, index=column_list)\n",
    "    df = df.append(s, ignore_index=True) # Append to dataframe\n",
    "\n",
    "df.head()"
   ]
  },
  {
   "cell_type": "markdown",
   "metadata": {},
   "source": [
    "### Part B & C - Define feature set and target, and train_test_split"
   ]
  },
  {
   "cell_type": "code",
   "execution_count": 6,
   "metadata": {},
   "outputs": [
    {
     "data": {
      "text/html": [
       "<div>\n",
       "<style>\n",
       "    .dataframe thead tr:only-child th {\n",
       "        text-align: right;\n",
       "    }\n",
       "\n",
       "    .dataframe thead th {\n",
       "        text-align: left;\n",
       "    }\n",
       "\n",
       "    .dataframe tbody tr th {\n",
       "        vertical-align: top;\n",
       "    }\n",
       "</style>\n",
       "<table border=\"1\" class=\"dataframe\">\n",
       "  <thead>\n",
       "    <tr style=\"text-align: right;\">\n",
       "      <th></th>\n",
       "      <th>Pixel_11</th>\n",
       "      <th>Pixel_12</th>\n",
       "      <th>Pixel_13</th>\n",
       "      <th>Pixel_14</th>\n",
       "      <th>Pixel_15</th>\n",
       "      <th>Pixel_16</th>\n",
       "      <th>Pixel_17</th>\n",
       "      <th>Pixel_18</th>\n",
       "      <th>Pixel_21</th>\n",
       "      <th>Pixel_22</th>\n",
       "      <th>...</th>\n",
       "      <th>Pixel_77</th>\n",
       "      <th>Pixel_78</th>\n",
       "      <th>Pixel_81</th>\n",
       "      <th>Pixel_82</th>\n",
       "      <th>Pixel_83</th>\n",
       "      <th>Pixel_84</th>\n",
       "      <th>Pixel_85</th>\n",
       "      <th>Pixel_86</th>\n",
       "      <th>Pixel_87</th>\n",
       "      <th>Pixel_88</th>\n",
       "    </tr>\n",
       "  </thead>\n",
       "  <tbody>\n",
       "    <tr>\n",
       "      <th>1739</th>\n",
       "      <td>2</td>\n",
       "      <td>0</td>\n",
       "      <td>175</td>\n",
       "      <td>176</td>\n",
       "      <td>112</td>\n",
       "      <td>2</td>\n",
       "      <td>0</td>\n",
       "      <td>6</td>\n",
       "      <td>7</td>\n",
       "      <td>54</td>\n",
       "      <td>...</td>\n",
       "      <td>21</td>\n",
       "      <td>1</td>\n",
       "      <td>0</td>\n",
       "      <td>1</td>\n",
       "      <td>106</td>\n",
       "      <td>195</td>\n",
       "      <td>124</td>\n",
       "      <td>0</td>\n",
       "      <td>2</td>\n",
       "      <td>0</td>\n",
       "    </tr>\n",
       "    <tr>\n",
       "      <th>481</th>\n",
       "      <td>5</td>\n",
       "      <td>0</td>\n",
       "      <td>0</td>\n",
       "      <td>84</td>\n",
       "      <td>240</td>\n",
       "      <td>125</td>\n",
       "      <td>0</td>\n",
       "      <td>6</td>\n",
       "      <td>0</td>\n",
       "      <td>0</td>\n",
       "      <td>...</td>\n",
       "      <td>159</td>\n",
       "      <td>0</td>\n",
       "      <td>0</td>\n",
       "      <td>0</td>\n",
       "      <td>8</td>\n",
       "      <td>122</td>\n",
       "      <td>221</td>\n",
       "      <td>255</td>\n",
       "      <td>131</td>\n",
       "      <td>12</td>\n",
       "    </tr>\n",
       "    <tr>\n",
       "      <th>541</th>\n",
       "      <td>0</td>\n",
       "      <td>33</td>\n",
       "      <td>204</td>\n",
       "      <td>226</td>\n",
       "      <td>252</td>\n",
       "      <td>244</td>\n",
       "      <td>117</td>\n",
       "      <td>0</td>\n",
       "      <td>18</td>\n",
       "      <td>31</td>\n",
       "      <td>...</td>\n",
       "      <td>0</td>\n",
       "      <td>0</td>\n",
       "      <td>0</td>\n",
       "      <td>22</td>\n",
       "      <td>165</td>\n",
       "      <td>255</td>\n",
       "      <td>207</td>\n",
       "      <td>10</td>\n",
       "      <td>4</td>\n",
       "      <td>3</td>\n",
       "    </tr>\n",
       "    <tr>\n",
       "      <th>332</th>\n",
       "      <td>8</td>\n",
       "      <td>0</td>\n",
       "      <td>53</td>\n",
       "      <td>213</td>\n",
       "      <td>235</td>\n",
       "      <td>141</td>\n",
       "      <td>10</td>\n",
       "      <td>0</td>\n",
       "      <td>0</td>\n",
       "      <td>70</td>\n",
       "      <td>...</td>\n",
       "      <td>170</td>\n",
       "      <td>0</td>\n",
       "      <td>0</td>\n",
       "      <td>2</td>\n",
       "      <td>27</td>\n",
       "      <td>220</td>\n",
       "      <td>254</td>\n",
       "      <td>239</td>\n",
       "      <td>98</td>\n",
       "      <td>0</td>\n",
       "    </tr>\n",
       "    <tr>\n",
       "      <th>1705</th>\n",
       "      <td>0</td>\n",
       "      <td>0</td>\n",
       "      <td>116</td>\n",
       "      <td>224</td>\n",
       "      <td>183</td>\n",
       "      <td>0</td>\n",
       "      <td>0</td>\n",
       "      <td>4</td>\n",
       "      <td>0</td>\n",
       "      <td>30</td>\n",
       "      <td>...</td>\n",
       "      <td>48</td>\n",
       "      <td>4</td>\n",
       "      <td>0</td>\n",
       "      <td>6</td>\n",
       "      <td>108</td>\n",
       "      <td>234</td>\n",
       "      <td>255</td>\n",
       "      <td>248</td>\n",
       "      <td>59</td>\n",
       "      <td>1</td>\n",
       "    </tr>\n",
       "  </tbody>\n",
       "</table>\n",
       "<p>5 rows × 64 columns</p>\n",
       "</div>"
      ],
      "text/plain": [
       "     Pixel_11 Pixel_12 Pixel_13 Pixel_14 Pixel_15 Pixel_16 Pixel_17 Pixel_18  \\\n",
       "1739        2        0      175      176      112        2        0        6   \n",
       "481         5        0        0       84      240      125        0        6   \n",
       "541         0       33      204      226      252      244      117        0   \n",
       "332         8        0       53      213      235      141       10        0   \n",
       "1705        0        0      116      224      183        0        0        4   \n",
       "\n",
       "     Pixel_21 Pixel_22   ...    Pixel_77 Pixel_78 Pixel_81 Pixel_82 Pixel_83  \\\n",
       "1739        7       54   ...          21        1        0        1      106   \n",
       "481         0        0   ...         159        0        0        0        8   \n",
       "541        18       31   ...           0        0        0       22      165   \n",
       "332         0       70   ...         170        0        0        2       27   \n",
       "1705        0       30   ...          48        4        0        6      108   \n",
       "\n",
       "     Pixel_84 Pixel_85 Pixel_86 Pixel_87 Pixel_88  \n",
       "1739      195      124        0        2        0  \n",
       "481       122      221      255      131       12  \n",
       "541       255      207       10        4        3  \n",
       "332       220      254      239       98        0  \n",
       "1705      234      255      248       59        1  \n",
       "\n",
       "[5 rows x 64 columns]"
      ]
     },
     "execution_count": 6,
     "metadata": {},
     "output_type": "execute_result"
    }
   ],
   "source": [
    "X = df[pixel_column_list]\n",
    "y = df['Digit']\n",
    "y = y.astype('int')\n",
    "\n",
    "X_train, X_test, y_train, y_test = train_test_split(X, y, test_size=0.1, random_state=2)\n",
    "\n",
    "X_train.head()"
   ]
  },
  {
   "cell_type": "markdown",
   "metadata": {},
   "source": [
    "### Part D - Design and Train ANN"
   ]
  },
  {
   "cell_type": "code",
   "execution_count": 7,
   "metadata": {},
   "outputs": [
    {
     "data": {
      "text/plain": [
       "MLPClassifier(activation='logistic', alpha=1e-05, batch_size='auto',\n",
       "       beta_1=0.9, beta_2=0.999, early_stopping=False, epsilon=1e-08,\n",
       "       hidden_layer_sizes=(80,), learning_rate='constant',\n",
       "       learning_rate_init=0.002, max_iter=200, momentum=0.9,\n",
       "       nesterovs_momentum=True, power_t=0.5, random_state=1, shuffle=True,\n",
       "       solver='adam', tol=0.0001, validation_fraction=0.1, verbose=False,\n",
       "       warm_start=False)"
      ]
     },
     "execution_count": 7,
     "metadata": {},
     "output_type": "execute_result"
    }
   ],
   "source": [
    "# 1 Hidden Layer with 80 neurons:\n",
    "my_ANN = MLPClassifier(hidden_layer_sizes=(80,),activation='logistic', \n",
    "                       solver='adam', alpha=1e-5, random_state=1, learning_rate_init = 0.002)\n",
    "\n",
    "\n",
    "my_ANN.fit(X_train, y_train)"
   ]
  },
  {
   "cell_type": "markdown",
   "metadata": {},
   "source": [
    "### Testing ANN on Training Set | Accuracy & Confusion Matrix"
   ]
  },
  {
   "cell_type": "code",
   "execution_count": 8,
   "metadata": {},
   "outputs": [
    {
     "name": "stdout",
     "output_type": "stream",
     "text": [
      "Accuracy score: 0.905555555556\n"
     ]
    }
   ],
   "source": [
    "y_predict = my_ANN.predict(X_test)\n",
    "\n",
    "score = accuracy_score(y_test, y_predict)\n",
    "print(\"Accuracy score:\",score)"
   ]
  },
  {
   "cell_type": "code",
   "execution_count": 9,
   "metadata": {},
   "outputs": [
    {
     "data": {
      "text/plain": [
       "array([[13,  0,  0,  0,  1,  0,  0,  0,  0,  0],\n",
       "       [ 0, 20,  0,  0,  0,  0,  0,  0,  1,  1],\n",
       "       [ 0,  0, 14,  0,  0,  0,  0,  0,  0,  0],\n",
       "       [ 0,  0,  0, 20,  0,  0,  0,  2,  0,  0],\n",
       "       [ 0,  0,  0,  0, 16,  0,  0,  1,  3,  1],\n",
       "       [ 0,  0,  0,  0,  0, 16,  0,  0,  0,  0],\n",
       "       [ 0,  1,  0,  0,  0,  0, 17,  0,  0,  0],\n",
       "       [ 0,  0,  0,  0,  0,  0,  0, 17,  1,  0],\n",
       "       [ 0,  2,  0,  0,  0,  0,  0,  0, 16,  1],\n",
       "       [ 0,  0,  0,  0,  0,  1,  0,  0,  1, 14]])"
      ]
     },
     "execution_count": 9,
     "metadata": {},
     "output_type": "execute_result"
    }
   ],
   "source": [
    "confusion_matrix(y_test, y_predict)"
   ]
  },
  {
   "cell_type": "markdown",
   "metadata": {},
   "source": [
    "### Part E - Using GridSearchCV"
   ]
  },
  {
   "cell_type": "code",
   "execution_count": null,
   "metadata": {
    "collapsed": true
   },
   "outputs": [],
   "source": [
    "# define a range for the \"number of neurons\" in the hidden layer for a network with 1 hidden layer:\n",
    "neuron_number = [(i,) for i in range(50,200)]\n",
    "\n",
    "# create a dictionary for grid parameter:\n",
    "param_grid = dict(hidden_layer_sizes = neuron_number)\n",
    "#print(param_grid,'\\n')\n",
    "\n",
    "# instantiate the model:\n",
    "my_ANN = MLPClassifier(activation='logistic', solver='adam', \n",
    "                                         alpha=1e-5, random_state=1, \n",
    "                                           learning_rate_init = 0.002)\n",
    "\n",
    "# create the grid, and define the metric for evaluating the model: \n",
    "grid = GridSearchCV(my_ANN, param_grid, cv=10, scoring='accuracy')\n",
    "\n",
    "# fit the grid (start the grid search):\n",
    "grid.fit(X, y)"
   ]
  },
  {
   "cell_type": "code",
   "execution_count": null,
   "metadata": {
    "collapsed": true
   },
   "outputs": [],
   "source": [
    "print(grid.best_score_)\n",
    "print(grid.best_params_)"
   ]
  },
  {
   "cell_type": "code",
   "execution_count": null,
   "metadata": {
    "collapsed": true
   },
   "outputs": [],
   "source": [
    "print(5)"
   ]
  },
  {
   "cell_type": "code",
   "execution_count": null,
   "metadata": {
    "collapsed": true
   },
   "outputs": [],
   "source": []
  }
 ],
 "metadata": {
  "kernelspec": {
   "display_name": "Python 3",
   "language": "python",
   "name": "python3"
  },
  "language_info": {
   "codemirror_mode": {
    "name": "ipython",
    "version": 3
   },
   "file_extension": ".py",
   "mimetype": "text/x-python",
   "name": "python",
   "nbconvert_exporter": "python",
   "pygments_lexer": "ipython3",
   "version": "3.6.1"
  }
 },
 "nbformat": 4,
 "nbformat_minor": 2
}
