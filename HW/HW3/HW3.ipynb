{
 "cells": [
  {
   "cell_type": "markdown",
   "metadata": {},
   "source": [
    "# CS5661 Homework 3\n",
    "Kevin Lam (CIN: 303061725) "
   ]
  },
  {
   "cell_type": "markdown",
   "metadata": {},
   "source": [
    "### Importing necessary libraries"
   ]
  },
  {
   "cell_type": "code",
   "execution_count": 91,
   "metadata": {},
   "outputs": [],
   "source": [
    "import numpy as np\n",
    "import pandas as pd\n",
    "import matplotlib.image as mpimg\n",
    "import matplotlib.pyplot as plt\n",
    "import matplotlib.pyplot as plt\n",
    "from sklearn.preprocessing import scale\n",
    "from sklearn.model_selection import train_test_split\n",
    "from sklearn.decomposition import PCA\n",
    "from sklearn.svm import SVC\n",
    "from sklearn.neural_network import MLPClassifier\n",
    "from sklearn.metrics import accuracy_score\n",
    "from sklearn.metrics import confusion_matrix\n",
    "from sklearn.model_selection import GridSearchCV"
   ]
  },
  {
   "cell_type": "code",
   "execution_count": 49,
   "metadata": {
    "collapsed": true
   },
   "outputs": [],
   "source": [
    "#To allow images to be shown inside Jupyter\n",
    "%matplotlib inline"
   ]
  },
  {
   "cell_type": "markdown",
   "metadata": {},
   "source": [
    "### Loading the dataset"
   ]
  },
  {
   "cell_type": "code",
   "execution_count": 50,
   "metadata": {
    "collapsed": true
   },
   "outputs": [],
   "source": [
    "#Load dataset\n",
    "img_df = pd.read_csv('label.csv')"
   ]
  },
  {
   "cell_type": "markdown",
   "metadata": {},
   "source": [
    "### Part A - Loading and Displaying Image"
   ]
  },
  {
   "cell_type": "code",
   "execution_count": 51,
   "metadata": {},
   "outputs": [
    {
     "data": {
      "text/plain": [
       "<matplotlib.image.AxesImage at 0x140832476d8>"
      ]
     },
     "execution_count": 51,
     "metadata": {},
     "output_type": "execute_result"
    },
    {
     "data": {
      "image/png": "[encoded data removed]",
      "text/plain": [
       "<matplotlib.figure.Figure at 0x14082f9a940>"
      ]
     },
     "metadata": {},
     "output_type": "display_data"
    }
   ],
   "source": [
    "first_img = mpimg.imread('Face/0.jpg')\n",
    "plt.imshow(first_img, cmap=plt.cm.gray)"
   ]
  },
  {
   "cell_type": "markdown",
   "metadata": {},
   "source": [
    "### Create list for column names\n",
    "Format will be 'Pixel_XY' with X & Y ranging from 1-64 to represent each pixel location in a 64x64 grid"
   ]
  },
  {
   "cell_type": "code",
   "execution_count": 119,
   "metadata": {},
   "outputs": [
    {
     "data": {
      "text/html": [
       "<div>\n",
       "<style>\n",
       "    .dataframe thead tr:only-child th {\n",
       "        text-align: right;\n",
       "    }\n",
       "\n",
       "    .dataframe thead th {\n",
       "        text-align: left;\n",
       "    }\n",
       "\n",
       "    .dataframe tbody tr th {\n",
       "        vertical-align: top;\n",
       "    }\n",
       "</style>\n",
       "<table border=\"1\" class=\"dataframe\">\n",
       "  <thead>\n",
       "    <tr style=\"text-align: right;\">\n",
       "      <th></th>\n",
       "      <th>Pixel_1_1</th>\n",
       "      <th>Pixel_1_2</th>\n",
       "      <th>Pixel_1_3</th>\n",
       "      <th>Pixel_1_4</th>\n",
       "      <th>Pixel_1_5</th>\n",
       "      <th>Pixel_1_6</th>\n",
       "      <th>Pixel_1_7</th>\n",
       "      <th>Pixel_1_8</th>\n",
       "      <th>Pixel_1_9</th>\n",
       "      <th>Pixel_1_10</th>\n",
       "      <th>...</th>\n",
       "      <th>Pixel_64_55</th>\n",
       "      <th>Pixel_64_56</th>\n",
       "      <th>Pixel_64_57</th>\n",
       "      <th>Pixel_64_58</th>\n",
       "      <th>Pixel_64_59</th>\n",
       "      <th>Pixel_64_60</th>\n",
       "      <th>Pixel_64_61</th>\n",
       "      <th>Pixel_64_62</th>\n",
       "      <th>Pixel_64_63</th>\n",
       "      <th>Pixel_64_64</th>\n",
       "    </tr>\n",
       "  </thead>\n",
       "  <tbody>\n",
       "  </tbody>\n",
       "</table>\n",
       "<p>0 rows × 4096 columns</p>\n",
       "</div>"
      ],
      "text/plain": [
       "Empty DataFrame\n",
       "Columns: [Pixel_1_1, Pixel_1_2, Pixel_1_3, Pixel_1_4, Pixel_1_5, Pixel_1_6, Pixel_1_7, Pixel_1_8, Pixel_1_9, Pixel_1_10, Pixel_1_11, Pixel_1_12, Pixel_1_13, Pixel_1_14, Pixel_1_15, Pixel_1_16, Pixel_1_17, Pixel_1_18, Pixel_1_19, Pixel_1_20, Pixel_1_21, Pixel_1_22, Pixel_1_23, Pixel_1_24, Pixel_1_25, Pixel_1_26, Pixel_1_27, Pixel_1_28, Pixel_1_29, Pixel_1_30, Pixel_1_31, Pixel_1_32, Pixel_1_33, Pixel_1_34, Pixel_1_35, Pixel_1_36, Pixel_1_37, Pixel_1_38, Pixel_1_39, Pixel_1_40, Pixel_1_41, Pixel_1_42, Pixel_1_43, Pixel_1_44, Pixel_1_45, Pixel_1_46, Pixel_1_47, Pixel_1_48, Pixel_1_49, Pixel_1_50, Pixel_1_51, Pixel_1_52, Pixel_1_53, Pixel_1_54, Pixel_1_55, Pixel_1_56, Pixel_1_57, Pixel_1_58, Pixel_1_59, Pixel_1_60, Pixel_1_61, Pixel_1_62, Pixel_1_63, Pixel_1_64, Pixel_2_1, Pixel_2_2, Pixel_2_3, Pixel_2_4, Pixel_2_5, Pixel_2_6, Pixel_2_7, Pixel_2_8, Pixel_2_9, Pixel_2_10, Pixel_2_11, Pixel_2_12, Pixel_2_13, Pixel_2_14, Pixel_2_15, Pixel_2_16, Pixel_2_17, Pixel_2_18, Pixel_2_19, Pixel_2_20, Pixel_2_21, Pixel_2_22, Pixel_2_23, Pixel_2_24, Pixel_2_25, Pixel_2_26, Pixel_2_27, Pixel_2_28, Pixel_2_29, Pixel_2_30, Pixel_2_31, Pixel_2_32, Pixel_2_33, Pixel_2_34, Pixel_2_35, Pixel_2_36, ...]\n",
       "Index: []\n",
       "\n",
       "[0 rows x 4096 columns]"
      ]
     },
     "execution_count": 119,
     "metadata": {},
     "output_type": "execute_result"
    }
   ],
   "source": [
    "column_list = []\n",
    "for i in range(1,65):\n",
    "    for j in range(1,65):\n",
    "        name = 'Pixel_' + str(i) + '_' + str(j)\n",
    "        column_list.append(name)\n",
    "\n",
    "pixel_column_list = column_list.copy() # Keep copy of just the pixel columns for easier referencing in training\n",
    "\n",
    "#Create label vector\n",
    "y = img_df['Label']\n",
    "\n",
    "# Create dataframe based on column list\n",
    "df = pd.DataFrame(columns = [column_list])\n",
    "df.head()"
   ]
  },
  {
   "cell_type": "markdown",
   "metadata": {},
   "source": [
    "### Part B - Iterate through the csv, read and append data to dataframe"
   ]
  },
  {
   "cell_type": "code",
   "execution_count": 120,
   "metadata": {},
   "outputs": [
    {
     "data": {
      "text/html": [
       "<div>\n",
       "<style>\n",
       "    .dataframe thead tr:only-child th {\n",
       "        text-align: right;\n",
       "    }\n",
       "\n",
       "    .dataframe thead th {\n",
       "        text-align: left;\n",
       "    }\n",
       "\n",
       "    .dataframe tbody tr th {\n",
       "        vertical-align: top;\n",
       "    }\n",
       "</style>\n",
       "<table border=\"1\" class=\"dataframe\">\n",
       "  <thead>\n",
       "    <tr style=\"text-align: right;\">\n",
       "      <th></th>\n",
       "      <th>Pixel_1_1</th>\n",
       "      <th>Pixel_1_2</th>\n",
       "      <th>Pixel_1_3</th>\n",
       "      <th>Pixel_1_4</th>\n",
       "      <th>Pixel_1_5</th>\n",
       "      <th>Pixel_1_6</th>\n",
       "      <th>Pixel_1_7</th>\n",
       "      <th>Pixel_1_8</th>\n",
       "      <th>Pixel_1_9</th>\n",
       "      <th>Pixel_1_10</th>\n",
       "      <th>...</th>\n",
       "      <th>Pixel_64_55</th>\n",
       "      <th>Pixel_64_56</th>\n",
       "      <th>Pixel_64_57</th>\n",
       "      <th>Pixel_64_58</th>\n",
       "      <th>Pixel_64_59</th>\n",
       "      <th>Pixel_64_60</th>\n",
       "      <th>Pixel_64_61</th>\n",
       "      <th>Pixel_64_62</th>\n",
       "      <th>Pixel_64_63</th>\n",
       "      <th>Pixel_64_64</th>\n",
       "    </tr>\n",
       "  </thead>\n",
       "  <tbody>\n",
       "    <tr>\n",
       "      <th>0</th>\n",
       "      <td>186</td>\n",
       "      <td>183</td>\n",
       "      <td>179</td>\n",
       "      <td>190</td>\n",
       "      <td>212</td>\n",
       "      <td>219</td>\n",
       "      <td>221</td>\n",
       "      <td>232</td>\n",
       "      <td>230</td>\n",
       "      <td>231</td>\n",
       "      <td>...</td>\n",
       "      <td>56</td>\n",
       "      <td>45</td>\n",
       "      <td>47</td>\n",
       "      <td>18</td>\n",
       "      <td>0</td>\n",
       "      <td>8</td>\n",
       "      <td>15</td>\n",
       "      <td>9</td>\n",
       "      <td>3</td>\n",
       "      <td>5</td>\n",
       "    </tr>\n",
       "    <tr>\n",
       "      <th>1</th>\n",
       "      <td>204</td>\n",
       "      <td>198</td>\n",
       "      <td>194</td>\n",
       "      <td>195</td>\n",
       "      <td>198</td>\n",
       "      <td>195</td>\n",
       "      <td>190</td>\n",
       "      <td>186</td>\n",
       "      <td>190</td>\n",
       "      <td>193</td>\n",
       "      <td>...</td>\n",
       "      <td>19</td>\n",
       "      <td>0</td>\n",
       "      <td>29</td>\n",
       "      <td>52</td>\n",
       "      <td>90</td>\n",
       "      <td>146</td>\n",
       "      <td>130</td>\n",
       "      <td>120</td>\n",
       "      <td>164</td>\n",
       "      <td>167</td>\n",
       "    </tr>\n",
       "    <tr>\n",
       "      <th>2</th>\n",
       "      <td>86</td>\n",
       "      <td>79</td>\n",
       "      <td>82</td>\n",
       "      <td>95</td>\n",
       "      <td>100</td>\n",
       "      <td>102</td>\n",
       "      <td>121</td>\n",
       "      <td>146</td>\n",
       "      <td>169</td>\n",
       "      <td>179</td>\n",
       "      <td>...</td>\n",
       "      <td>160</td>\n",
       "      <td>167</td>\n",
       "      <td>179</td>\n",
       "      <td>169</td>\n",
       "      <td>192</td>\n",
       "      <td>188</td>\n",
       "      <td>197</td>\n",
       "      <td>189</td>\n",
       "      <td>185</td>\n",
       "      <td>141</td>\n",
       "    </tr>\n",
       "    <tr>\n",
       "      <th>3</th>\n",
       "      <td>61</td>\n",
       "      <td>90</td>\n",
       "      <td>98</td>\n",
       "      <td>119</td>\n",
       "      <td>144</td>\n",
       "      <td>156</td>\n",
       "      <td>174</td>\n",
       "      <td>177</td>\n",
       "      <td>183</td>\n",
       "      <td>195</td>\n",
       "      <td>...</td>\n",
       "      <td>119</td>\n",
       "      <td>244</td>\n",
       "      <td>246</td>\n",
       "      <td>168</td>\n",
       "      <td>126</td>\n",
       "      <td>187</td>\n",
       "      <td>162</td>\n",
       "      <td>145</td>\n",
       "      <td>58</td>\n",
       "      <td>18</td>\n",
       "    </tr>\n",
       "    <tr>\n",
       "      <th>4</th>\n",
       "      <td>99</td>\n",
       "      <td>134</td>\n",
       "      <td>165</td>\n",
       "      <td>183</td>\n",
       "      <td>201</td>\n",
       "      <td>210</td>\n",
       "      <td>215</td>\n",
       "      <td>224</td>\n",
       "      <td>232</td>\n",
       "      <td>236</td>\n",
       "      <td>...</td>\n",
       "      <td>83</td>\n",
       "      <td>90</td>\n",
       "      <td>94</td>\n",
       "      <td>90</td>\n",
       "      <td>70</td>\n",
       "      <td>41</td>\n",
       "      <td>71</td>\n",
       "      <td>103</td>\n",
       "      <td>92</td>\n",
       "      <td>117</td>\n",
       "    </tr>\n",
       "  </tbody>\n",
       "</table>\n",
       "<p>5 rows × 4096 columns</p>\n",
       "</div>"
      ],
      "text/plain": [
       "  Pixel_1_1 Pixel_1_2 Pixel_1_3 Pixel_1_4 Pixel_1_5 Pixel_1_6 Pixel_1_7  \\\n",
       "0       186       183       179       190       212       219       221   \n",
       "1       204       198       194       195       198       195       190   \n",
       "2        86        79        82        95       100       102       121   \n",
       "3        61        90        98       119       144       156       174   \n",
       "4        99       134       165       183       201       210       215   \n",
       "\n",
       "  Pixel_1_8 Pixel_1_9 Pixel_1_10     ...     Pixel_64_55 Pixel_64_56  \\\n",
       "0       232       230        231     ...              56          45   \n",
       "1       186       190        193     ...              19           0   \n",
       "2       146       169        179     ...             160         167   \n",
       "3       177       183        195     ...             119         244   \n",
       "4       224       232        236     ...              83          90   \n",
       "\n",
       "  Pixel_64_57 Pixel_64_58 Pixel_64_59 Pixel_64_60 Pixel_64_61 Pixel_64_62  \\\n",
       "0          47          18           0           8          15           9   \n",
       "1          29          52          90         146         130         120   \n",
       "2         179         169         192         188         197         189   \n",
       "3         246         168         126         187         162         145   \n",
       "4          94          90          70          41          71         103   \n",
       "\n",
       "  Pixel_64_63 Pixel_64_64  \n",
       "0           3           5  \n",
       "1         164         167  \n",
       "2         185         141  \n",
       "3          58          18  \n",
       "4          92         117  \n",
       "\n",
       "[5 rows x 4096 columns]"
      ]
     },
     "execution_count": 120,
     "metadata": {},
     "output_type": "execute_result"
    }
   ],
   "source": [
    "df = df[0:0] # Clear dataframe\n",
    "\n",
    "for i in range(400):                   # Loop through the csv\n",
    "    img = mpimg.imread('Face/' + str(i) +\".jpg\").reshape(-1)             # Read image and collapse into a 1-dimensional array (8x8 -> 1x64)\n",
    "    data = list(img)\n",
    "    s = pd.Series(data, index=column_list)\n",
    "    df = df.append(s, ignore_index=True) # Append to dataframe\n",
    "\n",
    "df.head()"
   ]
  },
  {
   "cell_type": "markdown",
   "metadata": {},
   "source": [
    "### Part C - Normalizing the columns of the feature matrix"
   ]
  },
  {
   "cell_type": "code",
   "execution_count": 121,
   "metadata": {},
   "outputs": [
    {
     "name": "stdout",
     "output_type": "stream",
     "text": [
      "[[ 1.37649641  1.11885303  0.79610373 ..., -1.17094622 -1.24726506\n",
      "  -1.21711982]\n",
      " [ 1.68113398  1.3654141   1.03570156 ...,  0.68710075  1.48558299\n",
      "   1.58234648]\n",
      " [-0.31593455 -0.59063704 -0.75329558 ...,  1.84210291  1.84204144\n",
      "   1.13304942]\n",
      " ..., \n",
      " [ 0.98723729  1.02022861  1.01972837 ..., -0.58507555 -0.48342554\n",
      "  -0.38764832]\n",
      " [ 0.68259971  0.52710647  0.34885444 ...,  0.88797069  0.63687242\n",
      "   0.71831368]\n",
      " [-0.231313   -0.67282406 -1.0088666  ..., -0.06616154 -0.55132239\n",
      "  -0.50861291]]\n"
     ]
    }
   ],
   "source": [
    "normalized_df = scale(df)\n",
    "\n",
    "print(normalized_df)"
   ]
  },
  {
   "cell_type": "markdown",
   "metadata": {},
   "source": [
    "### Part D - Split Normalized Dataset into Testing and Training"
   ]
  },
  {
   "cell_type": "code",
   "execution_count": 122,
   "metadata": {},
   "outputs": [],
   "source": [
    "#X = normalized_df\n",
    "\n",
    "#X_train, X_test, y_train, y_test = train_test_split(X, y, test_size=0.25, random_state=5)\n",
    "X_train, X_test, y_train, y_test = train_test_split(normalized_df, y, test_size=0.25, random_state=5)"
   ]
  },
  {
   "cell_type": "markdown",
   "metadata": {},
   "source": [
    "### Part E - Using PCA to reduce the dimensionality"
   ]
  },
  {
   "cell_type": "code",
   "execution_count": 123,
   "metadata": {},
   "outputs": [],
   "source": [
    "my_pca = PCA(n_components = 50)\n",
    "\n",
    "X_Train_new = my_pca.fit_transform(X_train)\n",
    "X_Test_new = my_pca.transform(X_test)"
   ]
  },
  {
   "cell_type": "markdown",
   "metadata": {},
   "source": [
    "### Part F - SVM Classifier"
   ]
  },
  {
   "cell_type": "code",
   "execution_count": 124,
   "metadata": {},
   "outputs": [
    {
     "name": "stdout",
     "output_type": "stream",
     "text": [
      "SVM Accuracy: 0.91\n"
     ]
    }
   ],
   "source": [
    "my_svm = SVC(C=1, kernel='rbf', gamma=0.0005, random_state=1)\n",
    "my_svm.fit(X_Train_new, y_train)\n",
    "y_predict = my_svm.predict(X_Test_new)\n",
    "acc_svm = accuracy_score(y_test, y_predict)\n",
    "print('SVM Accuracy:',acc_svm)"
   ]
  },
  {
   "cell_type": "markdown",
   "metadata": {},
   "source": [
    "### Part F (Continued) - Confusion Matrix"
   ]
  },
  {
   "cell_type": "code",
   "execution_count": 125,
   "metadata": {},
   "outputs": [
    {
     "data": {
      "text/plain": [
       "array([[3, 0, 0, ..., 0, 0, 0],\n",
       "       [0, 3, 0, ..., 0, 0, 0],\n",
       "       [0, 0, 1, ..., 0, 0, 0],\n",
       "       ..., \n",
       "       [0, 0, 0, ..., 0, 0, 0],\n",
       "       [0, 0, 0, ..., 0, 4, 0],\n",
       "       [0, 0, 0, ..., 0, 0, 1]])"
      ]
     },
     "execution_count": 125,
     "metadata": {},
     "output_type": "execute_result"
    }
   ],
   "source": [
    "confusion_matrix(y_test, y_predict)"
   ]
  },
  {
   "cell_type": "markdown",
   "metadata": {},
   "source": [
    "### Part G - Using GridSearchCV & Results"
   ]
  },
  {
   "cell_type": "code",
   "execution_count": 126,
   "metadata": {},
   "outputs": [
    {
     "name": "stdout",
     "output_type": "stream",
     "text": [
      "Best Accuracy: 0.96\n",
      "Best value for C: {'C': 1}\n"
     ]
    }
   ],
   "source": [
    "#Search for C in this list\n",
    "C_List = [0.1, 1, 10, 100, 1e3, 5e3, 1e4, 5e4, 1e5]\n",
    "\n",
    "new_X = np.concatenate([X_Train_new, X_Test_new])\n",
    "new_y = np.concatenate([y_train, y_test])\n",
    "\n",
    "param_grid = {'C':C_List}\n",
    "\n",
    "# create the grid, and define the metric for evaluating the model: \n",
    "grid = GridSearchCV(my_svm, param_grid, cv=10, scoring='accuracy')\n",
    "\n",
    "# fit the grid (start the grid search):\n",
    "grid.fit(new_X, new_y)\n",
    "\n",
    "print(\"Best Accuracy:\",grid.best_score_)\n",
    "print(\"Best value for C:\",grid.best_params_)"
   ]
  }
 ],
 "metadata": {
  "kernelspec": {
   "display_name": "Python 3",
   "language": "python",
   "name": "python3"
  },
  "language_info": {
   "codemirror_mode": {
    "name": "ipython",
    "version": 3
   },
   "file_extension": ".py",
   "mimetype": "text/x-python",
   "name": "python",
   "nbconvert_exporter": "python",
   "pygments_lexer": "ipython3",
   "version": "3.6.1"
  }
 },
 "nbformat": 4,
 "nbformat_minor": 2
}
