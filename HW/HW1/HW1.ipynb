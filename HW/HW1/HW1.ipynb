{
 "cells": [
  {
   "cell_type": "code",
   "execution_count": 5,
   "metadata": {
    "collapsed": true
   },
   "outputs": [],
   "source": [
    "#HW1 - Kevin Lam CIN: 303061725\n",
    "\n",
    "import pandas as pd\n",
    "from sklearn.model_selection import train_test_split\n",
    "from sklearn.tree import DecisionTreeClassifier\n",
    "from sklearn.metrics import accuracy_score\n",
    "from sklearn.ensemble import AdaBoostClassifier\n",
    "from sklearn.ensemble import RandomForestClassifier\n",
    "from sklearn.utils import resample"
   ]
  },
  {
   "cell_type": "code",
   "execution_count": 6,
   "metadata": {
    "collapsed": true
   },
   "outputs": [],
   "source": [
    "# Part A\n",
    "df = pd.read_csv('Cancer_small.csv')\n",
    "df.head()\n",
    "\n",
    "# Creating the Feature Matrix:\n",
    "feature_cols = ['Clump_Thickness','Uniformity_of_Cell_Size','Uniformity_of_Cell_Shape','Marginal_Adhesion','Single_Epithelial_Cell_Size','Bare_Nuclei','Bland_Chromatin','Normal_Nucleoli','Mitoses']\n",
    "X = df[feature_cols]  \n",
    "\n",
    "# select a Series of labels (the last column) from the DataFrame\n",
    "y = df['Malignant_Cancer']"
   ]
  },
  {
   "cell_type": "code",
   "execution_count": 7,
   "metadata": {
    "collapsed": true
   },
   "outputs": [],
   "source": [
    "# Part B\n",
    "X_train, X_test, y_train, y_test = train_test_split(X, y, test_size=0.3, random_state=2)"
   ]
  },
  {
   "cell_type": "code",
   "execution_count": 8,
   "metadata": {},
   "outputs": [
    {
     "name": "stdout",
     "output_type": "stream",
     "text": [
      "Decision Tree Accuracy: 0.866666666667\n"
     ]
    }
   ],
   "source": [
    "# Part C - Decision Tree\n",
    "my_DecisionTree = DecisionTreeClassifier(random_state=2)\n",
    "my_DecisionTree.fit(X_train, y_train)\n",
    "\n",
    "y_predict_dt = my_DecisionTree.predict(X_test)\n",
    "score_dt = accuracy_score(y_test, y_predict_dt)\n",
    "\n",
    "print(\"Decision Tree Accuracy:\",score_dt)"
   ]
  },
  {
   "cell_type": "code",
   "execution_count": 9,
   "metadata": {
    "collapsed": true
   },
   "outputs": [],
   "source": [
    "# Part D - Bagging\n",
    "\n",
    "bagSize = df.shape[0]\n",
    "bootstrap_size = 0.8*(bagSize)\n",
    "\n",
    "#for i in range(0, 18):\n",
    "#resample(X_train, n_samples = bootstrap_size , random_state=i , replace = True#)\n",
    "#resample(y_train, n_samples = bootstrap_size , random_state=i , replace = True#)"
   ]
  },
  {
   "cell_type": "code",
   "execution_count": 10,
   "metadata": {},
   "outputs": [
    {
     "name": "stdout",
     "output_type": "stream",
     "text": [
      "Ada Boost Accuracy: 0.933333333333\n"
     ]
    }
   ],
   "source": [
    "# Part E - Ada Boost\n",
    "my_AdaBoost = AdaBoostClassifier(n_estimators = 19,random_state=2)\n",
    "my_AdaBoost.fit(X_train, y_train)\n",
    "\n",
    "y_predict_ab = my_AdaBoost.predict(X_test)\n",
    "score_ab = accuracy_score(y_test, y_predict_ab)\n",
    "print(\"Ada Boost Accuracy:\", score_ab)"
   ]
  },
  {
   "cell_type": "code",
   "execution_count": 19,
   "metadata": {},
   "outputs": [
    {
     "name": "stdout",
     "output_type": "stream",
     "text": [
      "Random Forest Accuracy: 0.955555555556\n"
     ]
    }
   ],
   "source": [
    "# Part F - Random Forest\n",
    "my_RandomForest = RandomForestClassifier(n_estimators = 19, bootstrap = True, random_state=2)\n",
    "my_RandomForest.fit(X_train, y_train)\n",
    "\n",
    "y_predict_rf = my_RandomForest.predict(X_test)\n",
    "score_rf = accuracy_score(y_test, y_predict_rf)\n",
    "\n",
    "print(\"Random Forest Accuracy:\",score_rf)"
   ]
  },
  {
   "cell_type": "code",
   "execution_count": null,
   "metadata": {
    "collapsed": true
   },
   "outputs": [],
   "source": []
  }
 ],
 "metadata": {
  "kernelspec": {
   "display_name": "Python 3",
   "language": "python",
   "name": "python3"
  },
  "language_info": {
   "codemirror_mode": {
    "name": "ipython",
    "version": 3
   },
   "file_extension": ".py",
   "mimetype": "text/x-python",
   "name": "python",
   "nbconvert_exporter": "python",
   "pygments_lexer": "ipython3",
   "version": "3.6.1"
  }
 },
 "nbformat": 4,
 "nbformat_minor": 2
}
